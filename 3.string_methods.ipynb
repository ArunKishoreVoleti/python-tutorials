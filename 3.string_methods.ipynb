{
 "cells": [
  {
   "cell_type": "code",
   "execution_count": 1,
   "id": "c2c0529e",
   "metadata": {},
   "outputs": [
    {
     "name": "stdout",
     "output_type": "stream",
     "text": [
      "Arun\n"
     ]
    }
   ],
   "source": [
    "name = 'arun'\n",
    "print(name.capitalize())"
   ]
  },
  {
   "cell_type": "code",
   "execution_count": 5,
   "id": "123cb6d6",
   "metadata": {},
   "outputs": [
    {
     "name": "stdout",
     "output_type": "stream",
     "text": [
      "ßhanu\n",
      "sshanu\n"
     ]
    }
   ],
   "source": [
    "name = '\\u00DFhanu'\n",
    "print(name)\n",
    "print(name.casefold())"
   ]
  },
  {
   "cell_type": "code",
   "execution_count": 8,
   "id": "75088440",
   "metadata": {},
   "outputs": [
    {
     "name": "stdout",
     "output_type": "stream",
     "text": [
      "arunk\n",
      "   arunk   \n",
      "...arunk...\n"
     ]
    }
   ],
   "source": [
    "name = 'arunk'\n",
    "print(name)\n",
    "print(name.center(11))\n",
    "print(name.center(11, '.'))"
   ]
  },
  {
   "cell_type": "code",
   "execution_count": 11,
   "id": "17336076",
   "metadata": {},
   "outputs": [
    {
     "name": "stdout",
     "output_type": "stream",
     "text": [
      "4\n",
      "3\n",
      "1\n"
     ]
    }
   ],
   "source": [
    "word = 'aaaabbcde'\n",
    "print(word.count('a'))\n",
    "print(word.count('a', 1))\n",
    "print(word.count('a', 1, 2))"
   ]
  },
  {
   "cell_type": "code",
   "execution_count": 16,
   "id": "d8aa60e1",
   "metadata": {},
   "outputs": [
    {
     "name": "stdout",
     "output_type": "stream",
     "text": [
      "b'\\xc3\\x9fhanu'\n",
      "b'\\xff\\xfe\\xdf\\x00h\\x00a\\x00n\\x00u\\x00'\n"
     ]
    }
   ],
   "source": [
    "word = 'ßhanu'\n",
    "print(word.encode())\n",
    "print(word.encode('utf-16'))"
   ]
  },
  {
   "cell_type": "code",
   "execution_count": 28,
   "id": "5cdcb721",
   "metadata": {},
   "outputs": [
    {
     "name": "stdout",
     "output_type": "stream",
     "text": [
      "True\n"
     ]
    }
   ],
   "source": [
    "word = 'hello'\n",
    "print(word.endswith('llo'))"
   ]
  },
  {
   "cell_type": "code",
   "execution_count": 29,
   "id": "7072b95c",
   "metadata": {},
   "outputs": [
    {
     "name": "stdout",
     "output_type": "stream",
     "text": [
      "arun\tkishore\n",
      "arun    kishore\n",
      "arunkishore\n",
      "arun      kishore\n",
      "arun  kishore\n"
     ]
    }
   ],
   "source": [
    "word = 'arun\\tkishore'\n",
    "print(word)\n",
    "print(word.expandtabs())\n",
    "print(word.expandtabs(0))\n",
    "print(word.expandtabs(10))\n",
    "print(word.expandtabs(2))"
   ]
  },
  {
   "cell_type": "code",
   "execution_count": 33,
   "id": "2e5022c6",
   "metadata": {},
   "outputs": [
    {
     "name": "stdout",
     "output_type": "stream",
     "text": [
      "0\n",
      "3\n",
      "-1\n",
      "-1\n"
     ]
    }
   ],
   "source": [
    "word = 'abcab'\n",
    "print(word.find('a'))\n",
    "print(word.find('a', 1))\n",
    "print(word.find('a', 1, 2))\n",
    "print(word.find('d'))"
   ]
  },
  {
   "cell_type": "code",
   "execution_count": 35,
   "id": "35b0754a",
   "metadata": {},
   "outputs": [
    {
     "name": "stdout",
     "output_type": "stream",
     "text": [
      "My name is Arun and I am working in Infosys\n",
      "My name is Arun and I am working in Infosys\n",
      "My name is Infosys and I am working in Arun\n",
      "My name is Arun and I am working in Infosys\n",
      "My name is Arun and I am working in Infosys\n"
     ]
    }
   ],
   "source": [
    "print(\"My name is {} and I am working in {}\".format('Arun', 'Infosys'))\n",
    "print(\"My name is {0} and I am working in {1}\".format('Arun', 'Infosys'))\n",
    "print(\"My name is {1} and I am working in {0}\".format('Arun', 'Infosys'))\n",
    "print(\"My name is {name} and I am working in {company}\".format(name = 'Arun', company = 'Infosys'))\n",
    "print(\"My name is {name} and I am working in {company}\".format(company = 'Infosys', name = 'Arun'))"
   ]
  },
  {
   "cell_type": "code",
   "execution_count": 39,
   "id": "9eb898f0",
   "metadata": {},
   "outputs": [
    {
     "name": "stdout",
     "output_type": "stream",
     "text": [
      "My name is Arun and I am working in Infosys\n"
     ]
    }
   ],
   "source": [
    "mapping = {'name': 'Arun', 'company': 'Infosys'}\n",
    "print(\"My name is {name} and I am working in {company}\".format_map(mapping))"
   ]
  },
  {
   "cell_type": "code",
   "execution_count": 43,
   "id": "ddebebda",
   "metadata": {},
   "outputs": [
    {
     "name": "stdout",
     "output_type": "stream",
     "text": [
      "0\n",
      "3\n"
     ]
    }
   ],
   "source": [
    "word = 'abcab'\n",
    "print(word.index('a'))\n",
    "print(word.index('a', 1))\n",
    "#print(word.index('a', 1, 2)) This will throw ValueError"
   ]
  },
  {
   "cell_type": "code",
   "execution_count": 47,
   "id": "9a76fb9e",
   "metadata": {},
   "outputs": [
    {
     "name": "stdout",
     "output_type": "stream",
     "text": [
      "False\n",
      "False\n",
      "True\n",
      "False\n",
      "True\n",
      "False\n",
      "True\n",
      "False\n",
      "True\n",
      "True\n",
      "False\n",
      "True\n"
     ]
    }
   ],
   "source": [
    "string = 'aB#4 '\n",
    "print(string.isalnum())\n",
    "print(string.isalpha())\n",
    "print(string.isascii())\n",
    "print(string.isdecimal())\n",
    "print(string[3].isdigit())\n",
    "print(string.isidentifier())\n",
    "print(string[0].islower())\n",
    "print(string.isnumeric())\n",
    "print(string.isprintable())\n",
    "print(string[4].isspace())\n",
    "print(string.istitle())\n",
    "print(string[1].isupper())"
   ]
  },
  {
   "cell_type": "code",
   "execution_count": 48,
   "id": "3be7ba29",
   "metadata": {},
   "outputs": [
    {
     "name": "stdout",
     "output_type": "stream",
     "text": [
      "arun - kishore - voleti\n"
     ]
    }
   ],
   "source": [
    "names = ['arun', 'kishore', 'voleti']\n",
    "print(' - '.join(names))"
   ]
  },
  {
   "cell_type": "code",
   "execution_count": 49,
   "id": "0a02f586",
   "metadata": {},
   "outputs": [
    {
     "name": "stdout",
     "output_type": "stream",
     "text": [
      "arun######\n"
     ]
    }
   ],
   "source": [
    "word = \"arun\"\n",
    "print(word.ljust(10, '#'))"
   ]
  },
  {
   "cell_type": "code",
   "execution_count": 50,
   "id": "fbace3c3",
   "metadata": {},
   "outputs": [
    {
     "name": "stdout",
     "output_type": "stream",
     "text": [
      "asbgdt\n"
     ]
    }
   ],
   "source": [
    "word = 'AsBgDt'\n",
    "print(word.lower())"
   ]
  },
  {
   "cell_type": "code",
   "execution_count": 51,
   "id": "dedbf35c",
   "metadata": {},
   "outputs": [
    {
     "name": "stdout",
     "output_type": "stream",
     "text": [
      "     arun\n",
      "arun\n"
     ]
    }
   ],
   "source": [
    "word = \"     arun\"\n",
    "print(word)\n",
    "print(word.lstrip())"
   ]
  },
  {
   "cell_type": "code",
   "execution_count": 52,
   "id": "e9425110",
   "metadata": {},
   "outputs": [
    {
     "name": "stdout",
     "output_type": "stream",
     "text": [
      "('hello ', '-', ' world')\n",
      "('hello ', '-', ' world - !')\n"
     ]
    }
   ],
   "source": [
    "word = 'hello - world'\n",
    "print(word.partition('-'))\n",
    "\n",
    "word = 'hello - world - !'\n",
    "print(word.partition('-'))"
   ]
  },
  {
   "cell_type": "code",
   "execution_count": 54,
   "id": "37fbde12",
   "metadata": {},
   "outputs": [
    {
     "name": "stdout",
     "output_type": "stream",
     "text": [
      "Arunaaa\n",
      "aaaArun\n"
     ]
    }
   ],
   "source": [
    "word = 'aaaArunaaa'\n",
    "print(word.removeprefix('aaa'))\n",
    "print(word.removesuffix('aaa'))"
   ]
  },
  {
   "cell_type": "code",
   "execution_count": 55,
   "id": "e7fc8e9f",
   "metadata": {},
   "outputs": [
    {
     "name": "stdout",
     "output_type": "stream",
     "text": [
      "Arun Kishore\n",
      "Arun Kisho#e\n"
     ]
    }
   ],
   "source": [
    "word = 'A#un Kisho#e'\n",
    "print(word.replace('#', 'r'))\n",
    "print(word.replace('#', 'r', 1))"
   ]
  },
  {
   "cell_type": "code",
   "execution_count": 57,
   "id": "c54165f1",
   "metadata": {},
   "outputs": [
    {
     "name": "stdout",
     "output_type": "stream",
     "text": [
      "4\n",
      "5\n"
     ]
    }
   ],
   "source": [
    "word = 'arunar'\n",
    "print(word.rfind('a'))\n",
    "print(word.rindex('r'))"
   ]
  },
  {
   "cell_type": "code",
   "execution_count": 58,
   "id": "92c8ce4a",
   "metadata": {},
   "outputs": [
    {
     "name": "stdout",
     "output_type": "stream",
     "text": [
      "      arun\n",
      "######arun\n"
     ]
    }
   ],
   "source": [
    "word  = 'arun'\n",
    "print(word.rjust(10))\n",
    "print(word.rjust(10, '#'))"
   ]
  },
  {
   "cell_type": "code",
   "execution_count": 60,
   "id": "9f254535",
   "metadata": {},
   "outputs": [
    {
     "name": "stdout",
     "output_type": "stream",
     "text": [
      "('hello - world ', '-', ' !')\n"
     ]
    }
   ],
   "source": [
    "word = 'hello - world - !'\n",
    "print(word.rpartition('-'))"
   ]
  },
  {
   "cell_type": "code",
   "execution_count": 63,
   "id": "75926d03",
   "metadata": {},
   "outputs": [
    {
     "name": "stdout",
     "output_type": "stream",
     "text": [
      "['13', '06', '1999']\n"
     ]
    }
   ],
   "source": [
    "date = '13-06-1999'\n",
    "print(date.rsplit('-'))"
   ]
  },
  {
   "cell_type": "code",
   "execution_count": 64,
   "id": "ce5b4981",
   "metadata": {},
   "outputs": [
    {
     "name": "stdout",
     "output_type": "stream",
     "text": [
      "    arun\n"
     ]
    }
   ],
   "source": [
    "word = '    arun    '\n",
    "print(word.rstrip())"
   ]
  },
  {
   "cell_type": "code",
   "execution_count": 65,
   "id": "fb59a5b6",
   "metadata": {},
   "outputs": [
    {
     "name": "stdout",
     "output_type": "stream",
     "text": [
      "['13', '06', '1999']\n"
     ]
    }
   ],
   "source": [
    "date = '13-06-1999'\n",
    "print(date.split('-'))"
   ]
  },
  {
   "cell_type": "code",
   "execution_count": 71,
   "id": "e2fedcd5",
   "metadata": {},
   "outputs": [
    {
     "name": "stdout",
     "output_type": "stream",
     "text": [
      "['hello', 'world']\n"
     ]
    }
   ],
   "source": [
    "string = 'hello\\nworld'\n",
    "print(string.splitlines())"
   ]
  },
  {
   "cell_type": "code",
   "execution_count": 72,
   "id": "27caa38d",
   "metadata": {},
   "outputs": [
    {
     "name": "stdout",
     "output_type": "stream",
     "text": [
      "True\n"
     ]
    }
   ],
   "source": [
    "word = 'aaaArun'\n",
    "print(word.startswith('aaa'))"
   ]
  },
  {
   "cell_type": "code",
   "execution_count": 73,
   "id": "9670e9f4",
   "metadata": {},
   "outputs": [
    {
     "name": "stdout",
     "output_type": "stream",
     "text": [
      "   Arun   \n",
      "Arun\n"
     ]
    }
   ],
   "source": [
    "word = '   Arun   '\n",
    "print(word)\n",
    "print(word.strip())"
   ]
  },
  {
   "cell_type": "code",
   "execution_count": 74,
   "id": "4d59b04d",
   "metadata": {},
   "outputs": [
    {
     "name": "stdout",
     "output_type": "stream",
     "text": [
      "aAbBcC\n"
     ]
    }
   ],
   "source": [
    "word = 'AaBbCc'\n",
    "print(word.swapcase())"
   ]
  },
  {
   "cell_type": "code",
   "execution_count": 75,
   "id": "3c790f03",
   "metadata": {},
   "outputs": [
    {
     "name": "stdout",
     "output_type": "stream",
     "text": [
      "Arun Kishore\n"
     ]
    }
   ],
   "source": [
    "word = 'arun kishore'\n",
    "print(word.title())"
   ]
  },
  {
   "cell_type": "code",
   "execution_count": 76,
   "id": "2e27e7d0",
   "metadata": {},
   "outputs": [
    {
     "name": "stdout",
     "output_type": "stream",
     "text": [
      "ARUN\n"
     ]
    }
   ],
   "source": [
    "word = 'arun'\n",
    "print(word.upper())"
   ]
  },
  {
   "cell_type": "code",
   "execution_count": 77,
   "id": "78049f31",
   "metadata": {},
   "outputs": [
    {
     "name": "stdout",
     "output_type": "stream",
     "text": [
      "000000arun\n"
     ]
    }
   ],
   "source": [
    "word = 'arun'\n",
    "print(word.zfill(10))"
   ]
  },
  {
   "cell_type": "code",
   "execution_count": 81,
   "id": "e4ee7af7",
   "metadata": {},
   "outputs": [
    {
     "name": "stdout",
     "output_type": "stream",
     "text": [
      "12345\n"
     ]
    }
   ],
   "source": [
    "word = 'abcde'\n",
    "mapping = {'a': '1', 'b': '2', 'c': '3', 'd': '4', 'e': '5'}\n",
    "translation_table = str.maketrans(mapping)\n",
    "translated_word = word.translate(translation_table)\n",
    "print(translated_word)"
   ]
  }
 ],
 "metadata": {
  "kernelspec": {
   "display_name": "Python 3 (ipykernel)",
   "language": "python",
   "name": "python3"
  },
  "language_info": {
   "codemirror_mode": {
    "name": "ipython",
    "version": 3
   },
   "file_extension": ".py",
   "mimetype": "text/x-python",
   "name": "python",
   "nbconvert_exporter": "python",
   "pygments_lexer": "ipython3",
   "version": "3.11.4"
  }
 },
 "nbformat": 4,
 "nbformat_minor": 5
}
