{
 "cells": [
  {
   "cell_type": "code",
   "execution_count": 1,
   "id": "c202907c",
   "metadata": {},
   "outputs": [
    {
     "name": "stdout",
     "output_type": "stream",
     "text": [
      "1\n",
      "2.0\n",
      "hi\n",
      "hello world\n"
     ]
    }
   ],
   "source": [
    "#Object (Iterable), List, Tuple, Dictionary, Sequence\n",
    "for i in 1,2.0,'hi',\"hello world\":\n",
    "    print(i)"
   ]
  },
  {
   "cell_type": "code",
   "execution_count": 2,
   "id": "92f09f88",
   "metadata": {},
   "outputs": [
    {
     "name": "stdout",
     "output_type": "stream",
     "text": [
      "1\n",
      "2.0\n",
      "hi\n",
      "Hello World\n"
     ]
    }
   ],
   "source": [
    "lst = [1, 2.0, 'hi', 'Hello World']\n",
    "for i in lst:\n",
    "    print(i)"
   ]
  },
  {
   "cell_type": "code",
   "execution_count": 3,
   "id": "62314389",
   "metadata": {},
   "outputs": [
    {
     "name": "stdout",
     "output_type": "stream",
     "text": [
      "1\n",
      "2.0\n",
      "hi\n",
      "Hello World\n"
     ]
    }
   ],
   "source": [
    "lst = (1, 2.0, 'hi', 'Hello World')\n",
    "for i in lst:\n",
    "    print(i)"
   ]
  },
  {
   "cell_type": "code",
   "execution_count": 4,
   "id": "f30adad0",
   "metadata": {},
   "outputs": [
    {
     "name": "stdout",
     "output_type": "stream",
     "text": [
      "1 a 2.0\n",
      "2 b 3.0\n",
      "3 c 4.0\n"
     ]
    }
   ],
   "source": [
    "lst = [(1, 'a', 2.0), (2, 'b', 3.0), (3, 'c', 4.0)]\n",
    "for i, j, k in lst:\n",
    "    print(i, j, k)"
   ]
  },
  {
   "cell_type": "code",
   "execution_count": 5,
   "id": "1d7d78e3",
   "metadata": {},
   "outputs": [
    {
     "name": "stdout",
     "output_type": "stream",
     "text": [
      "1 a\n",
      "2 b\n"
     ]
    }
   ],
   "source": [
    "d = {1: 'a', 2: 'b'}\n",
    "for i,j in d.items():\n",
    "    print(i,j)"
   ]
  },
  {
   "cell_type": "code",
   "execution_count": 6,
   "id": "9d9e362a",
   "metadata": {},
   "outputs": [
    {
     "name": "stdout",
     "output_type": "stream",
     "text": [
      "Hello\n",
      "Hello\n",
      "Hello\n",
      "Hello\n",
      "Hello\n",
      "Hello\n",
      "Hello\n",
      "Hello\n",
      "Hello\n",
      "Hello\n"
     ]
    }
   ],
   "source": [
    "lst = [1] * 10\n",
    "for i in lst:\n",
    "    print(\"Hello\")"
   ]
  },
  {
   "cell_type": "code",
   "execution_count": 7,
   "id": "0e537028",
   "metadata": {},
   "outputs": [
    {
     "name": "stdout",
     "output_type": "stream",
     "text": [
      "1\t3\t5\t7\t9\t"
     ]
    }
   ],
   "source": [
    "for i in range(1, 101, 2):\n",
    "    if i > 10:\n",
    "        break\n",
    "    print(i, end = '\\t')\n",
    "else:\n",
    "    print(\"Hello\")"
   ]
  },
  {
   "cell_type": "code",
   "execution_count": 8,
   "id": "6b904eae",
   "metadata": {},
   "outputs": [
    {
     "name": "stdout",
     "output_type": "stream",
     "text": [
      "1\n",
      "2\n",
      "3\n",
      "4\n",
      "5\n",
      "6\n",
      "7\n",
      "8\n",
      "9\n",
      "10\n"
     ]
    }
   ],
   "source": [
    "for i in range(1, 11):\n",
    "    print(i)"
   ]
  },
  {
   "cell_type": "code",
   "execution_count": 9,
   "id": "29714665",
   "metadata": {},
   "outputs": [
    {
     "name": "stdout",
     "output_type": "stream",
     "text": [
      "1\n",
      "2\n",
      "4\n",
      "5\n",
      "7\n",
      "8\n",
      "10\n"
     ]
    }
   ],
   "source": [
    "for i in range(1, 11):\n",
    "    if i % 3 == 0:\n",
    "        continue\n",
    "    print(i)"
   ]
  },
  {
   "cell_type": "code",
   "execution_count": 10,
   "id": "7066d7ac",
   "metadata": {},
   "outputs": [
    {
     "name": "stdout",
     "output_type": "stream",
     "text": [
      "1\n",
      "2\n"
     ]
    }
   ],
   "source": [
    "for i in range(1, 11):\n",
    "    if i % 3 == 0:\n",
    "        break\n",
    "    print(i)"
   ]
  },
  {
   "cell_type": "code",
   "execution_count": 11,
   "id": "068ae568",
   "metadata": {},
   "outputs": [
    {
     "name": "stdout",
     "output_type": "stream",
     "text": [
      "Today\n"
     ]
    }
   ],
   "source": [
    "date = '20-12-2023'\n",
    "if date == '20-12-2023': print(\"Today\")"
   ]
  },
  {
   "cell_type": "code",
   "execution_count": 12,
   "id": "afbaa853",
   "metadata": {},
   "outputs": [
    {
     "name": "stdout",
     "output_type": "stream",
     "text": [
      "Not Today\n"
     ]
    }
   ],
   "source": [
    "date = '21-12-2023'\n",
    "# if date == '20-12-2023':\n",
    "#     print(\"Today\")\n",
    "# else:\n",
    "#     print(\"Not Today\")\n",
    "\n",
    "# print(\"Today\") if date == '20-12-2023' else print(\"Not Today\")\n",
    "\n",
    "print(\"Today\" if date == '20-12-2023' else \"Not Today\")"
   ]
  },
  {
   "cell_type": "code",
   "execution_count": 13,
   "id": "6e490409",
   "metadata": {},
   "outputs": [
    {
     "name": "stdout",
     "output_type": "stream",
     "text": [
      "0\n",
      "a\n",
      "Hi\n",
      "1\n",
      "b\n",
      "Hi\n",
      "2\n",
      "c\n",
      "Hi\n",
      "3\n",
      "d\n",
      "Hi\n",
      "4\n",
      "e\n",
      "Hi\n"
     ]
    }
   ],
   "source": [
    "for i in range(5): print(i), print(chr(i+97)), print(\"Hi\")"
   ]
  },
  {
   "cell_type": "code",
   "execution_count": 14,
   "id": "797740cd",
   "metadata": {},
   "outputs": [
    {
     "name": "stdout",
     "output_type": "stream",
     "text": [
      "Hi\n",
      "Hi\n",
      "Hi\n",
      "Hi\n",
      "Hi\n",
      "Hi\n",
      "Hello\n"
     ]
    }
   ],
   "source": [
    "a = 10\n",
    "while a >= 5:\n",
    "    print('Hi')\n",
    "    a = a - 1\n",
    "print(\"Hello\")"
   ]
  },
  {
   "cell_type": "code",
   "execution_count": 15,
   "id": "b4f41694",
   "metadata": {},
   "outputs": [
    {
     "name": "stdout",
     "output_type": "stream",
     "text": [
      "Hi\n",
      "Hi\n",
      "Hi\n"
     ]
    }
   ],
   "source": [
    "a = 1\n",
    "while a <= 5:\n",
    "    if a%4 == 0:\n",
    "        break\n",
    "    print(\"Hi\")\n",
    "    a = a + 1\n",
    "else:\n",
    "    print(\"Hello\")"
   ]
  },
  {
   "cell_type": "code",
   "execution_count": 16,
   "id": "b619de9e",
   "metadata": {},
   "outputs": [],
   "source": [
    "#Sample Example for Break in Data Engineering POV\n",
    "\n",
    "# for process in processes:\n",
    "#     #files = s3.list_objects()\n",
    "    \n",
    "#     for file in files:\n",
    "#         if file.endswith(\".json\"):\n",
    "#             break\n",
    "#     break\n"
   ]
  },
  {
   "cell_type": "code",
   "execution_count": 17,
   "id": "96bfc643",
   "metadata": {},
   "outputs": [],
   "source": [
    "files = ['file1.csv', 'file2.csv', 'file3.csv']\n",
    "for file in files:\n",
    "#     df = spark.read.csv(file)\n",
    "#     df = df.withcolumn('date', lit(datetime.now))\n",
    "#     df.write.format('parquet').save(s3_path)\n",
    "    pass"
   ]
  }
 ],
 "metadata": {
  "kernelspec": {
   "display_name": "Python 3 (ipykernel)",
   "language": "python",
   "name": "python3"
  },
  "language_info": {
   "codemirror_mode": {
    "name": "ipython",
    "version": 3
   },
   "file_extension": ".py",
   "mimetype": "text/x-python",
   "name": "python",
   "nbconvert_exporter": "python",
   "pygments_lexer": "ipython3",
   "version": "3.11.4"
  }
 },
 "nbformat": 4,
 "nbformat_minor": 5
}
