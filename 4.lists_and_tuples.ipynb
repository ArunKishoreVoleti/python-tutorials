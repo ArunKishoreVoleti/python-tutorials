{
 "cells": [
  {
   "cell_type": "code",
   "execution_count": 1,
   "id": "0e624285",
   "metadata": {},
   "outputs": [
    {
     "name": "stdout",
     "output_type": "stream",
     "text": [
      "[0, 1, 2.0, 'a', 'abc', [3, 4, 5]]\n"
     ]
    }
   ],
   "source": [
    "lst = [0, 1, 2.0, 'a', 'abc', [3, 4, 5]]\n",
    "print(lst)"
   ]
  },
  {
   "cell_type": "code",
   "execution_count": 2,
   "id": "fdf4b7c4",
   "metadata": {},
   "outputs": [
    {
     "name": "stdout",
     "output_type": "stream",
     "text": [
      "[0, 1, 3, 'a', 'abc', [3, 4, 5]]\n"
     ]
    }
   ],
   "source": [
    "lst = [0, 1, 2.0, 'a', 'abc', [3, 4, 5]]\n",
    "lst[2] = 3\n",
    "print(lst)\n",
    "\n",
    "# s = '1244'\n",
    "# s[2] = '3'"
   ]
  },
  {
   "cell_type": "code",
   "execution_count": 3,
   "id": "7d30c3f8",
   "metadata": {},
   "outputs": [
    {
     "name": "stdout",
     "output_type": "stream",
     "text": [
      "0 1 3 a abc [3, 4, 5]\n"
     ]
    }
   ],
   "source": [
    "print(*lst)"
   ]
  },
  {
   "cell_type": "code",
   "execution_count": 4,
   "id": "b8c129d3",
   "metadata": {},
   "outputs": [
    {
     "data": {
      "text/plain": [
       "5"
      ]
     },
     "execution_count": 4,
     "metadata": {},
     "output_type": "execute_result"
    }
   ],
   "source": [
    "lst[-1][-1]"
   ]
  },
  {
   "cell_type": "code",
   "execution_count": 5,
   "id": "018b7ead",
   "metadata": {
    "scrolled": true
   },
   "outputs": [
    {
     "data": {
      "text/plain": [
       "[1, 3, 'a']"
      ]
     },
     "execution_count": 5,
     "metadata": {},
     "output_type": "execute_result"
    }
   ],
   "source": [
    "lst[1:4]"
   ]
  },
  {
   "cell_type": "code",
   "execution_count": 6,
   "id": "dd95b7bd",
   "metadata": {},
   "outputs": [
    {
     "data": {
      "text/plain": [
       "[1, 3, 'a']"
      ]
     },
     "execution_count": 6,
     "metadata": {},
     "output_type": "execute_result"
    }
   ],
   "source": [
    "lst[1:4:]"
   ]
  },
  {
   "cell_type": "code",
   "execution_count": 7,
   "id": "4c272163",
   "metadata": {
    "scrolled": true
   },
   "outputs": [
    {
     "name": "stdout",
     "output_type": "stream",
     "text": [
      "[1, 2, 3, 4, [5, 6, 7], 5, 6, 7, 'abc', 'a', 'b', 'c']\n"
     ]
    }
   ],
   "source": [
    "lst = [1, 2, 3]\n",
    "lst.append(4)\n",
    "lst.append([5, 6, 7])\n",
    "lst.extend([5, 6, 7])\n",
    "lst.append('abc')\n",
    "lst.extend('abc')\n",
    "print(lst)"
   ]
  },
  {
   "cell_type": "code",
   "execution_count": 8,
   "id": "2b216374",
   "metadata": {},
   "outputs": [
    {
     "name": "stdout",
     "output_type": "stream",
     "text": [
      "[] None\n"
     ]
    }
   ],
   "source": [
    "lst = [1, 2, 3]\n",
    "a = lst.clear()\n",
    "print(lst, a)"
   ]
  },
  {
   "cell_type": "code",
   "execution_count": 9,
   "id": "293560a4",
   "metadata": {
    "scrolled": false
   },
   "outputs": [
    {
     "name": "stdout",
     "output_type": "stream",
     "text": [
      "[1, 2, 3] [1, 2, 3]\n",
      "[1, 2, 3, 4] [1, 2, 3, 4]\n",
      "[1, 2, 3, 4, 5] [1, 2, 3, 4, 5]\n",
      "True\n",
      "[1, 2, 3, 4, 5] [1, 2, 3, 4, 5]\n",
      "[1, 2, 3, 4, 5] [1, 2, 3, 4, 5, 6]\n",
      "False\n"
     ]
    }
   ],
   "source": [
    "# Shallow Copy\n",
    "# Deep Copy\n",
    "\n",
    "lst1 = [1, 2, 3]\n",
    "lst2 = lst1\n",
    "print(lst1, lst2)\n",
    "\n",
    "lst2.append(4)\n",
    "print(lst1, lst2)\n",
    "\n",
    "lst1.append(5)\n",
    "print(lst1, lst2)\n",
    "\n",
    "print(lst1 is lst2)\n",
    "\n",
    "lst3 = lst1.copy()\n",
    "print(lst1, lst3)\n",
    "\n",
    "lst3.append(6)\n",
    "print(lst1, lst3)\n",
    "\n",
    "print(lst3 is lst1)"
   ]
  },
  {
   "cell_type": "code",
   "execution_count": 10,
   "id": "5f4310f5",
   "metadata": {},
   "outputs": [
    {
     "name": "stdout",
     "output_type": "stream",
     "text": [
      "1\n"
     ]
    }
   ],
   "source": [
    "lst = [1, 1, 1, 2, 3, 1, 3, 4, 2, 1, 3, 4, 5]\n",
    "count = lst.count(5)\n",
    "print(count)"
   ]
  },
  {
   "cell_type": "code",
   "execution_count": 11,
   "id": "e333c49c",
   "metadata": {},
   "outputs": [
    {
     "name": "stdout",
     "output_type": "stream",
     "text": [
      "1\n"
     ]
    }
   ],
   "source": [
    "lst = ['arun', 'kishore', 'voleti', 'vishu', 'mani', 'arun', 'kishore']\n",
    "ind = lst.index('kishore')\n",
    "print(ind)"
   ]
  },
  {
   "cell_type": "code",
   "execution_count": 12,
   "id": "08d6dc20",
   "metadata": {},
   "outputs": [
    {
     "name": "stdout",
     "output_type": "stream",
     "text": [
      "['a', 'b', 'd', 'e', 'c']\n",
      "['a', 'b', 'd', 'e', 'c', 'f']\n"
     ]
    }
   ],
   "source": [
    "lst = ['a', 'b', 'd', 'e']\n",
    "lst.insert(15, 'c')\n",
    "print(lst)\n",
    "lst.insert(14, 'f')\n",
    "print(lst)"
   ]
  },
  {
   "cell_type": "code",
   "execution_count": 13,
   "id": "165da3f0",
   "metadata": {},
   "outputs": [
    {
     "name": "stdout",
     "output_type": "stream",
     "text": [
      "['a', 'b', 'c', 'd'] e\n",
      "['a', 'b', 'c'] d\n",
      "['a', 'c'] b\n"
     ]
    }
   ],
   "source": [
    "lst = ['a', 'b', 'c', 'd', 'e']\n",
    "ele = lst.pop()\n",
    "print(lst, ele)\n",
    "\n",
    "ele = lst.pop()\n",
    "print(lst, ele)\n",
    "\n",
    "ele = lst.pop(1)\n",
    "print(lst, ele)"
   ]
  },
  {
   "cell_type": "code",
   "execution_count": 14,
   "id": "f1932801",
   "metadata": {},
   "outputs": [
    {
     "name": "stdout",
     "output_type": "stream",
     "text": [
      "['a', 'c', 'd', 'a']\n"
     ]
    }
   ],
   "source": [
    "lst = ['a', 'b', 'c', 'd', 'a']\n",
    "lst.remove('b')\n",
    "print(lst)"
   ]
  },
  {
   "cell_type": "code",
   "execution_count": 15,
   "id": "737464c7",
   "metadata": {},
   "outputs": [
    {
     "name": "stdout",
     "output_type": "stream",
     "text": [
      "[4, 3, 2, 1]\n"
     ]
    }
   ],
   "source": [
    "lst = [1, 2, 3, 4]\n",
    "lst.reverse()\n",
    "print(lst)"
   ]
  },
  {
   "cell_type": "code",
   "execution_count": 16,
   "id": "50026689",
   "metadata": {},
   "outputs": [
    {
     "name": "stdout",
     "output_type": "stream",
     "text": [
      "[5, 4, 3, 2, 1]\n"
     ]
    }
   ],
   "source": [
    "lst = [2, 1, 4, 5, 3]\n",
    "lst.sort(reverse = True)\n",
    "print(lst)"
   ]
  },
  {
   "cell_type": "code",
   "execution_count": 17,
   "id": "6d4456f3",
   "metadata": {},
   "outputs": [
    {
     "name": "stdout",
     "output_type": "stream",
     "text": [
      "['b', 'dd', 'aaa', 'eeee', 'ccccc']\n"
     ]
    }
   ],
   "source": [
    "lst = ['aaa', 'b', 'ccccc', 'dd', 'eeee'] #3, 1, 5, 2, 4\n",
    "lst.sort(key = len)\n",
    "print(lst)"
   ]
  },
  {
   "cell_type": "code",
   "execution_count": 18,
   "id": "00d122ac",
   "metadata": {},
   "outputs": [
    {
     "ename": "TypeError",
     "evalue": "'tuple' object does not support item assignment",
     "output_type": "error",
     "traceback": [
      "\u001b[1;31m---------------------------------------------------------------------------\u001b[0m",
      "\u001b[1;31mTypeError\u001b[0m                                 Traceback (most recent call last)",
      "Cell \u001b[1;32mIn[18], line 2\u001b[0m\n\u001b[0;32m      1\u001b[0m t \u001b[38;5;241m=\u001b[39m (\u001b[38;5;241m1\u001b[39m, \u001b[38;5;241m2\u001b[39m, \u001b[38;5;241m3\u001b[39m, \u001b[38;5;241m4\u001b[39m)\n\u001b[1;32m----> 2\u001b[0m t[\u001b[38;5;241m1\u001b[39m] \u001b[38;5;241m=\u001b[39m \u001b[38;5;241m100\u001b[39m\n",
      "\u001b[1;31mTypeError\u001b[0m: 'tuple' object does not support item assignment"
     ]
    }
   ],
   "source": [
    "t = (1, 2, 3, 4)\n",
    "t[1] = 100\n"
   ]
  },
  {
   "cell_type": "code",
   "execution_count": 19,
   "id": "8a96a958",
   "metadata": {},
   "outputs": [
    {
     "name": "stdout",
     "output_type": "stream",
     "text": [
      "2\n"
     ]
    }
   ],
   "source": [
    "t = (1, 2, 3, 4, 1, 2)\n",
    "print(t.count(1))"
   ]
  },
  {
   "cell_type": "code",
   "execution_count": 20,
   "id": "07e6037f",
   "metadata": {},
   "outputs": [
    {
     "name": "stdout",
     "output_type": "stream",
     "text": [
      "3\n"
     ]
    }
   ],
   "source": [
    "t = (1, 2, 3, 4, 1, 2)\n",
    "print(t.index(4))"
   ]
  }
 ],
 "metadata": {
  "kernelspec": {
   "display_name": "Python 3 (ipykernel)",
   "language": "python",
   "name": "python3"
  },
  "language_info": {
   "codemirror_mode": {
    "name": "ipython",
    "version": 3
   },
   "file_extension": ".py",
   "mimetype": "text/x-python",
   "name": "python",
   "nbconvert_exporter": "python",
   "pygments_lexer": "ipython3",
   "version": "3.11.4"
  }
 },
 "nbformat": 4,
 "nbformat_minor": 5
}
