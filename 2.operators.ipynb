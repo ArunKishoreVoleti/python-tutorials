{
 "cells": [
  {
   "cell_type": "code",
   "execution_count": 2,
   "id": "428db755",
   "metadata": {},
   "outputs": [
    {
     "name": "stdout",
     "output_type": "stream",
     "text": [
      "15\n",
      "5\n",
      "50\n",
      "2.0\n",
      "0\n",
      "100000\n",
      "2\n"
     ]
    }
   ],
   "source": [
    "#Arithmetic Operators\n",
    "a, b = 10, 5\n",
    "\n",
    "print(a + b, a - b, a * b, a / b, a % b, a ** b, a // b, sep = '\\n')"
   ]
  },
  {
   "cell_type": "code",
   "execution_count": 3,
   "id": "5a33c936",
   "metadata": {},
   "outputs": [
    {
     "name": "stdout",
     "output_type": "stream",
     "text": [
      "False\n",
      "True\n",
      "True\n",
      "False\n",
      "True\n",
      "False\n"
     ]
    }
   ],
   "source": [
    "#Comparison Operators\n",
    "a, b = 10, 5\n",
    "print(a == b, a != b, a > b, a < b, a >= b, a <= b, sep = '\\n')"
   ]
  },
  {
   "cell_type": "code",
   "execution_count": 6,
   "id": "505adb6a",
   "metadata": {},
   "outputs": [
    {
     "name": "stdout",
     "output_type": "stream",
     "text": [
      "Enter value: 10\n",
      "10\n",
      "10\n"
     ]
    }
   ],
   "source": [
    "#Assignment Operator\n",
    "a = input(\"Enter value: \")\n",
    "print(a)\n",
    "\n",
    "#Walrus Assignment Operator\n",
    "print(b := a)\n",
    "#print(b = a) This will throw an error"
   ]
  },
  {
   "cell_type": "code",
   "execution_count": 7,
   "id": "a243af02",
   "metadata": {},
   "outputs": [
    {
     "name": "stdout",
     "output_type": "stream",
     "text": [
      "False\n",
      "True\n",
      "False\n"
     ]
    }
   ],
   "source": [
    "#Logical Operators\n",
    "a, b = True, False\n",
    "\n",
    "print(a and b, a or b, not(a), sep = '\\n')"
   ]
  },
  {
   "cell_type": "code",
   "execution_count": 8,
   "id": "664e1829",
   "metadata": {},
   "outputs": [
    {
     "name": "stdout",
     "output_type": "stream",
     "text": [
      "0\n",
      "18\n",
      "18\n",
      "4\n",
      "64\n",
      "-17\n"
     ]
    }
   ],
   "source": [
    "#Bitwise Operators\n",
    "a, b = 16, 2\n",
    "print(a & b, a | b, a ^ b, a >> b, a << b, ~a, sep = '\\n')"
   ]
  },
  {
   "cell_type": "code",
   "execution_count": 10,
   "id": "9b63799d",
   "metadata": {},
   "outputs": [
    {
     "name": "stdout",
     "output_type": "stream",
     "text": [
      "True\n",
      "False\n"
     ]
    }
   ],
   "source": [
    "#Membership Operators\n",
    "a = 10\n",
    "print(a in [5,10,15,20], a not in [5,10,15,20], sep = '\\n')"
   ]
  },
  {
   "cell_type": "code",
   "execution_count": 15,
   "id": "d8800290",
   "metadata": {},
   "outputs": [
    {
     "name": "stdout",
     "output_type": "stream",
     "text": [
      "True True\n",
      "False True\n"
     ]
    }
   ],
   "source": [
    "#Identity Operators\n",
    "a, b = 5, 5\n",
    "print(a is b, a == b)\n",
    "\n",
    "a, b = 5, 5.0\n",
    "print(a is b, a == b)"
   ]
  }
 ],
 "metadata": {
  "kernelspec": {
   "display_name": "Python 3 (ipykernel)",
   "language": "python",
   "name": "python3"
  },
  "language_info": {
   "codemirror_mode": {
    "name": "ipython",
    "version": 3
   },
   "file_extension": ".py",
   "mimetype": "text/x-python",
   "name": "python",
   "nbconvert_exporter": "python",
   "pygments_lexer": "ipython3",
   "version": "3.11.4"
  }
 },
 "nbformat": 4,
 "nbformat_minor": 5
}
