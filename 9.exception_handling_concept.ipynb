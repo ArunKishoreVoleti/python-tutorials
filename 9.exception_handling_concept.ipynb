{
 "cells": [
  {
   "cell_type": "code",
   "execution_count": 1,
   "id": "6e5390fb",
   "metadata": {},
   "outputs": [
    {
     "name": "stdout",
     "output_type": "stream",
     "text": [
      "10.0\n",
      "15.0\n",
      "30.0\n",
      "division by zero\n",
      "-30.0\n",
      "-15.0\n",
      "-10.0\n"
     ]
    }
   ],
   "source": [
    "lst = [3, 2, 1, 0, -1, -2, -3]\n",
    "numerator = 30\n",
    "for denominator in lst:\n",
    "    try:\n",
    "        res = numerator / denominator\n",
    "        print(res)\n",
    "    except Exception as e:\n",
    "        print(e)"
   ]
  },
  {
   "cell_type": "code",
   "execution_count": 2,
   "id": "f75a9ee9",
   "metadata": {},
   "outputs": [
    {
     "name": "stdout",
     "output_type": "stream",
     "text": [
      "10.0\n",
      "15.0\n",
      "30.0\n",
      "division by zero\n"
     ]
    }
   ],
   "source": [
    "lst = [3, 2, 1, 0, -1, -2, -3]\n",
    "numerator = 30\n",
    "try:\n",
    "    for denominator in lst:  \n",
    "        res = numerator / denominator\n",
    "        print(res)\n",
    "except Exception as e:\n",
    "    print(e)"
   ]
  },
  {
   "cell_type": "code",
   "execution_count": 3,
   "id": "13bba6f3",
   "metadata": {},
   "outputs": [
    {
     "name": "stdout",
     "output_type": "stream",
     "text": [
      "10.0\n",
      "15.0\n",
      "30.0\n",
      "division by zero\n"
     ]
    }
   ],
   "source": [
    "try:\n",
    "    lst = [3, 2, 1, 0, -1, -2, -3]\n",
    "    numerator = 30\n",
    "\n",
    "    for denominator in lst:  \n",
    "        res = numerator / denominator\n",
    "        print(res)\n",
    "except Exception as e:\n",
    "    print(e)"
   ]
  },
  {
   "cell_type": "code",
   "execution_count": 4,
   "id": "63a12cc0",
   "metadata": {},
   "outputs": [
    {
     "name": "stdout",
     "output_type": "stream",
     "text": [
      "I can handle All\n"
     ]
    }
   ],
   "source": [
    "try:\n",
    "    a = 5 / 0\n",
    "    a = kishore\n",
    "    lst = [1, 2]\n",
    "    print(lst[10])\n",
    "except Exception:\n",
    "    print(\"I can handle All\")\n",
    "except ZeroDivisionError:\n",
    "    print(\"Division not possible\")\n",
    "except NameError:\n",
    "    print(\"Variable not found\")\n",
    "except IndexError:\n",
    "    print(\"No such index\")"
   ]
  },
  {
   "cell_type": "code",
   "execution_count": 5,
   "id": "98b187b4",
   "metadata": {},
   "outputs": [
    {
     "name": "stdout",
     "output_type": "stream",
     "text": [
      "Process Completed\n"
     ]
    }
   ],
   "source": [
    "try:\n",
    "    a = 5 / 1\n",
    "except Exception as e:\n",
    "    print(e)\n",
    "finally:\n",
    "    print(\"Process Completed\")"
   ]
  },
  {
   "cell_type": "code",
   "execution_count": 6,
   "id": "f0e326d5",
   "metadata": {},
   "outputs": [
    {
     "name": "stdout",
     "output_type": "stream",
     "text": [
      "division by zero\n"
     ]
    }
   ],
   "source": [
    "try:\n",
    "    a = 5 / 0\n",
    "except Exception as e:\n",
    "    print(e)\n",
    "else:\n",
    "    print(a)"
   ]
  },
  {
   "cell_type": "code",
   "execution_count": 7,
   "id": "253ee33c",
   "metadata": {},
   "outputs": [
    {
     "name": "stdout",
     "output_type": "stream",
     "text": [
      "Enter any amount: 6000\n",
      "Withdrawl Successful\n",
      "Balance = -1000\n"
     ]
    }
   ],
   "source": [
    "balance = 5000\n",
    "withdrawl = int(input(\"Enter any amount: \"))\n",
    "print(\"Withdrawl Successful\")\n",
    "print(\"Balance =\", balance - withdrawl)"
   ]
  },
  {
   "cell_type": "code",
   "execution_count": 8,
   "id": "da394ca0",
   "metadata": {},
   "outputs": [
    {
     "name": "stdout",
     "output_type": "stream",
     "text": [
      "Enter any amount: 6000\n",
      "Balance Insufficient\n"
     ]
    }
   ],
   "source": [
    "balance = 5000\n",
    "withdrawl = int(input(\"Enter any amount: \"))\n",
    "try:\n",
    "    if balance < withdrawl:\n",
    "        raise Exception(\"Balance Insufficient\")\n",
    "    print(\"Withdrawl Successful\")\n",
    "    print(\"Balance =\", balance - withdrawl)\n",
    "except Exception as e:\n",
    "    print(e)"
   ]
  },
  {
   "cell_type": "code",
   "execution_count": 9,
   "id": "877c888b",
   "metadata": {},
   "outputs": [
    {
     "name": "stdout",
     "output_type": "stream",
     "text": [
      "10.0\n",
      "15.0\n",
      "30.0\n",
      "division by zero\n",
      "division by zero\n",
      "-15.0\n",
      "-10.0\n"
     ]
    }
   ],
   "source": [
    "lst = [3, 2, 1, 0, 0, -2, -3]\n",
    "numerator = 30\n",
    "fails = []\n",
    "for denominator in lst:\n",
    "    try:\n",
    "        res = numerator / denominator\n",
    "        print(res)\n",
    "    except Exception as e:\n",
    "        print(e)\n",
    "        fails.append((numerator, denominator, e))\n",
    "print(*fails, sep = '\\n', file = open(\"IssueRecords.txt\", \"w\"))"
   ]
  }
 ],
 "metadata": {
  "kernelspec": {
   "display_name": "Python 3 (ipykernel)",
   "language": "python",
   "name": "python3"
  },
  "language_info": {
   "codemirror_mode": {
    "name": "ipython",
    "version": 3
   },
   "file_extension": ".py",
   "mimetype": "text/x-python",
   "name": "python",
   "nbconvert_exporter": "python",
   "pygments_lexer": "ipython3",
   "version": "3.11.4"
  }
 },
 "nbformat": 4,
 "nbformat_minor": 5
}
