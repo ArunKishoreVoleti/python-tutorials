{
 "cells": [
  {
   "cell_type": "code",
   "execution_count": 1,
   "id": "4b0719bc",
   "metadata": {},
   "outputs": [
    {
     "name": "stdout",
     "output_type": "stream",
     "text": [
      "{} <class 'dict'>\n"
     ]
    }
   ],
   "source": [
    "d = dict()\n",
    "print(d, type(d))"
   ]
  },
  {
   "cell_type": "code",
   "execution_count": 2,
   "id": "b411f454",
   "metadata": {},
   "outputs": [
    {
     "data": {
      "text/plain": [
       "{'first': 'a', 'second': {'fifth': 'e'}, 'third': 'a', 'fourth': 'a'}"
      ]
     },
     "execution_count": 2,
     "metadata": {},
     "output_type": "execute_result"
    }
   ],
   "source": [
    "d = {'first': 'a', 'second': {'fifth': 'e'}, 'third': 'a'}\n",
    "d['fourth'] = 'a'\n",
    "d"
   ]
  },
  {
   "cell_type": "code",
   "execution_count": 3,
   "id": "6710fcab",
   "metadata": {},
   "outputs": [
    {
     "name": "stdout",
     "output_type": "stream",
     "text": [
      "{1: 2, 3: 4}\n",
      "{}\n"
     ]
    }
   ],
   "source": [
    "d = {1:2, 3:4}\n",
    "print(d)\n",
    "d.clear()\n",
    "print(d)"
   ]
  },
  {
   "cell_type": "code",
   "execution_count": 4,
   "id": "615d67fe",
   "metadata": {},
   "outputs": [
    {
     "name": "stdout",
     "output_type": "stream",
     "text": [
      "{1: 2, 3: 4} {1: 2, 3: 5}\n"
     ]
    }
   ],
   "source": [
    "d = {1:2, 3:4}\n",
    "e = d.copy()\n",
    "e.update({3:5})\n",
    "print(d, e)"
   ]
  },
  {
   "cell_type": "code",
   "execution_count": 5,
   "id": "7d8b6400",
   "metadata": {},
   "outputs": [
    {
     "name": "stdout",
     "output_type": "stream",
     "text": [
      "Default\n"
     ]
    }
   ],
   "source": [
    "d = {1:2, 3:4}\n",
    "print(d.get(5, 'Default'))"
   ]
  },
  {
   "cell_type": "code",
   "execution_count": 6,
   "id": "64745288",
   "metadata": {},
   "outputs": [
    {
     "name": "stdout",
     "output_type": "stream",
     "text": [
      "(1, 3, 5)\n",
      "1\n",
      "3\n",
      "5\n"
     ]
    }
   ],
   "source": [
    "d = {1:2, 3:4, 5:6}\n",
    "print(tuple(d.keys()))\n",
    "for key in d.keys():\n",
    "    print(key)"
   ]
  },
  {
   "cell_type": "code",
   "execution_count": 7,
   "id": "9fb0afc5",
   "metadata": {},
   "outputs": [
    {
     "name": "stdout",
     "output_type": "stream",
     "text": [
      "dict_values([2, 4, 6])\n"
     ]
    }
   ],
   "source": [
    "d = {1:2, 3:4, 5:6}\n",
    "print(d.values())"
   ]
  },
  {
   "cell_type": "code",
   "execution_count": 8,
   "id": "3d5d6e11",
   "metadata": {},
   "outputs": [
    {
     "name": "stdout",
     "output_type": "stream",
     "text": [
      "dict_items([(1, 2), (3, 4), (5, 6)])\n",
      "1 2\n",
      "3 4\n",
      "5 6\n"
     ]
    }
   ],
   "source": [
    "d = {1:2, 3:4, 5:6}\n",
    "print(d.items())\n",
    "\n",
    "for key,val in d.items():\n",
    "    print(key, val)"
   ]
  },
  {
   "cell_type": "code",
   "execution_count": 9,
   "id": "731b0d60",
   "metadata": {},
   "outputs": [
    {
     "name": "stdout",
     "output_type": "stream",
     "text": [
      "{3: 4, 5: 6} 2\n"
     ]
    }
   ],
   "source": [
    "d = {1:2, 3:4, 5:6}\n",
    "val = d.pop(1)\n",
    "print(d, val)"
   ]
  },
  {
   "cell_type": "code",
   "execution_count": 10,
   "id": "27b4700c",
   "metadata": {},
   "outputs": [
    {
     "name": "stdout",
     "output_type": "stream",
     "text": [
      "{1: 2, 3: 4} (5, 6)\n"
     ]
    }
   ],
   "source": [
    "d = {1:2, 3:4, 5:6}\n",
    "val = d.popitem()\n",
    "print(d, val)"
   ]
  },
  {
   "cell_type": "code",
   "execution_count": 11,
   "id": "6113b3dd",
   "metadata": {},
   "outputs": [
    {
     "data": {
      "text/plain": [
       "{1: 2, 3: 4, 5: 6, 7: 8}"
      ]
     },
     "execution_count": 11,
     "metadata": {},
     "output_type": "execute_result"
    }
   ],
   "source": [
    "d = {1:2, 3:4, 5:6}\n",
    "d.update({7:8})\n",
    "d"
   ]
  },
  {
   "cell_type": "code",
   "execution_count": 12,
   "id": "629d97ce",
   "metadata": {},
   "outputs": [
    {
     "data": {
      "text/plain": [
       "{1: 2, 3: 4, 5: 6, 'phno': None}"
      ]
     },
     "execution_count": 12,
     "metadata": {},
     "output_type": "execute_result"
    }
   ],
   "source": [
    "d = {1:2, 3:4, 5:6}\n",
    "d.setdefault(\"phno\")\n",
    "d"
   ]
  }
 ],
 "metadata": {
  "kernelspec": {
   "display_name": "Python 3 (ipykernel)",
   "language": "python",
   "name": "python3"
  },
  "language_info": {
   "codemirror_mode": {
    "name": "ipython",
    "version": 3
   },
   "file_extension": ".py",
   "mimetype": "text/x-python",
   "name": "python",
   "nbconvert_exporter": "python",
   "pygments_lexer": "ipython3",
   "version": "3.11.4"
  }
 },
 "nbformat": 4,
 "nbformat_minor": 5
}
