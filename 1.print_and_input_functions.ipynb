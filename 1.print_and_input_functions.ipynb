{
 "cells": [
  {
   "cell_type": "code",
   "execution_count": 1,
   "id": "fc2d5577",
   "metadata": {},
   "outputs": [
    {
     "name": "stdout",
     "output_type": "stream",
     "text": [
      "Hi\n"
     ]
    }
   ],
   "source": [
    "print(\"Hi\")"
   ]
  },
  {
   "cell_type": "code",
   "execution_count": 2,
   "id": "e324a93a",
   "metadata": {},
   "outputs": [
    {
     "name": "stdout",
     "output_type": "stream",
     "text": [
      "1 2.0 c def\n"
     ]
    }
   ],
   "source": [
    "print(1, 2.0, 'c', 'def')"
   ]
  },
  {
   "cell_type": "code",
   "execution_count": 3,
   "id": "20e43849",
   "metadata": {},
   "outputs": [
    {
     "name": "stdout",
     "output_type": "stream",
     "text": [
      "Hello, world\n"
     ]
    }
   ],
   "source": [
    "print(\"Hello\", \"world\", sep = ', ')"
   ]
  },
  {
   "cell_type": "code",
   "execution_count": 4,
   "id": "0ffe3d2b",
   "metadata": {},
   "outputs": [
    {
     "name": "stdout",
     "output_type": "stream",
     "text": [
      "Hello\n",
      "World\n",
      "Hello World\n"
     ]
    }
   ],
   "source": [
    "print(\"Hello\")\n",
    "print(\"World\")\n",
    "\n",
    "print(\"Hello\", end = ' ')\n",
    "print(\"World\")"
   ]
  },
  {
   "cell_type": "code",
   "execution_count": 5,
   "id": "4f539221",
   "metadata": {},
   "outputs": [],
   "source": [
    "print(\"I am writing to file\", file = open(\"demo_file.txt\", \"w\"))"
   ]
  },
  {
   "cell_type": "code",
   "execution_count": 6,
   "id": "edba5784",
   "metadata": {},
   "outputs": [
    {
     "name": "stdout",
     "output_type": "stream",
     "text": [
      "Hello\n",
      "I have taken this input Hello\n"
     ]
    }
   ],
   "source": [
    "val = input()\n",
    "print(\"I have taken this input\", val)"
   ]
  },
  {
   "cell_type": "code",
   "execution_count": 7,
   "id": "4397238b",
   "metadata": {},
   "outputs": [
    {
     "name": "stdout",
     "output_type": "stream",
     "text": [
      "Enter any string: Hello\n",
      "The entered string is: Hello\n"
     ]
    }
   ],
   "source": [
    "val = input(\"Enter any string: \")\n",
    "print(\"The entered string is:\", val)"
   ]
  },
  {
   "cell_type": "code",
   "execution_count": 8,
   "id": "2cc206ca",
   "metadata": {},
   "outputs": [
    {
     "name": "stdout",
     "output_type": "stream",
     "text": [
      "Enter number 1: 5\n",
      "Enter number 2: 10\n",
      "510\n",
      "Enter number 1: 5\n",
      "Enter number 2: 10\n",
      "15\n"
     ]
    }
   ],
   "source": [
    "a, b = input(\"Enter number 1: \"), input(\"Enter number 2: \")\n",
    "print(a + b)\n",
    "\n",
    "a, b = int(input(\"Enter number 1: \")), int(input(\"Enter number 2: \"))\n",
    "print(a + b)"
   ]
  }
 ],
 "metadata": {
  "kernelspec": {
   "display_name": "Python 3 (ipykernel)",
   "language": "python",
   "name": "python3"
  },
  "language_info": {
   "codemirror_mode": {
    "name": "ipython",
    "version": 3
   },
   "file_extension": ".py",
   "mimetype": "text/x-python",
   "name": "python",
   "nbconvert_exporter": "python",
   "pygments_lexer": "ipython3",
   "version": "3.11.4"
  }
 },
 "nbformat": 4,
 "nbformat_minor": 5
}
