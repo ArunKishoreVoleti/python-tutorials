{
 "cells": [
  {
   "cell_type": "code",
   "execution_count": 1,
   "id": "8fb5f90d",
   "metadata": {},
   "outputs": [],
   "source": [
    "def function_name():\n",
    "    pass"
   ]
  },
  {
   "cell_type": "code",
   "execution_count": 2,
   "id": "560df1f3",
   "metadata": {},
   "outputs": [
    {
     "name": "stdout",
     "output_type": "stream",
     "text": [
      "Enter any Number: 10\n",
      "Even\n"
     ]
    }
   ],
   "source": [
    "def even_or_odd(num):\n",
    "    if num % 2 == 0:\n",
    "        print(\"Even\")\n",
    "    else:\n",
    "        print(\"Odd\")\n",
    "        \n",
    "number = int(input(\"Enter any Number: \"))\n",
    "even_or_odd(number)"
   ]
  },
  {
   "cell_type": "code",
   "execution_count": 3,
   "id": "f4522cf1",
   "metadata": {},
   "outputs": [
    {
     "name": "stdout",
     "output_type": "stream",
     "text": [
      "Enter any Number: 11\n",
      "Odd\n"
     ]
    }
   ],
   "source": [
    "def even_or_odd(num):\n",
    "    if num % 2 == 0:\n",
    "        return \"Even\"\n",
    "    else:\n",
    "        return \"Odd\"\n",
    "        \n",
    "number = int(input(\"Enter any Number: \"))\n",
    "res = even_or_odd(number)\n",
    "print(res)"
   ]
  },
  {
   "cell_type": "code",
   "execution_count": 4,
   "id": "0afb32ed",
   "metadata": {},
   "outputs": [
    {
     "name": "stdout",
     "output_type": "stream",
     "text": [
      "1\n",
      "2\n",
      "Hi\n"
     ]
    }
   ],
   "source": [
    "def func():\n",
    "    print(1)\n",
    "    print(2)\n",
    "    return\n",
    "    print(3)\n",
    "    print(3)\n",
    "    print(3)\n",
    "    print(3)\n",
    "    print(3)\n",
    "    print(3)\n",
    "    print(3)\n",
    "    print(3)\n",
    "    print(3)\n",
    "    print(3)\n",
    "    print(3)\n",
    "func()\n",
    "print(\"Hi\")"
   ]
  },
  {
   "cell_type": "code",
   "execution_count": 5,
   "id": "551ba5d9",
   "metadata": {},
   "outputs": [],
   "source": [
    "# Function \n",
    "#     with parameter without return\n",
    "#     with parameter with return\n",
    "#     without parameter without return\n",
    "#     without parameter with return"
   ]
  },
  {
   "cell_type": "code",
   "execution_count": 6,
   "id": "8048e298",
   "metadata": {},
   "outputs": [
    {
     "name": "stdout",
     "output_type": "stream",
     "text": [
      "15\n",
      "None\n"
     ]
    }
   ],
   "source": [
    "def add_numbers(num1, num2):\n",
    "    print(num1 + num2)\n",
    "    \n",
    "out = add_numbers(5, 10)\n",
    "print(out)"
   ]
  },
  {
   "cell_type": "code",
   "execution_count": 7,
   "id": "9525398a",
   "metadata": {},
   "outputs": [
    {
     "name": "stdout",
     "output_type": "stream",
     "text": [
      "15\n"
     ]
    }
   ],
   "source": [
    "def add_numbers(num1, num2):\n",
    "    return num1 + num2\n",
    "    \n",
    "print(add_numbers(5, 10))"
   ]
  },
  {
   "cell_type": "code",
   "execution_count": 8,
   "id": "6451f198",
   "metadata": {},
   "outputs": [
    {
     "name": "stdout",
     "output_type": "stream",
     "text": [
      "15\n",
      "None\n"
     ]
    }
   ],
   "source": [
    "def add_numbers():\n",
    "    num1, num2 = 5, 10\n",
    "    print(num1 + num2)\n",
    "    \n",
    "out = add_numbers()\n",
    "print(out)"
   ]
  },
  {
   "cell_type": "code",
   "execution_count": 9,
   "id": "d011f8a4",
   "metadata": {},
   "outputs": [
    {
     "name": "stdout",
     "output_type": "stream",
     "text": [
      "15\n"
     ]
    }
   ],
   "source": [
    "def add_numbers():\n",
    "    num1, num2 = 5, 10\n",
    "    return num1 + num2\n",
    "    \n",
    "print(add_numbers())"
   ]
  },
  {
   "cell_type": "code",
   "execution_count": 10,
   "id": "6802e440",
   "metadata": {},
   "outputs": [
    {
     "name": "stdout",
     "output_type": "stream",
     "text": [
      "10\n"
     ]
    }
   ],
   "source": [
    "def add_numbers(a = 5, b = 10, *nums):\n",
    "    return a+b+sum(nums)\n",
    "    \n",
    "print(add_numbers(b = 5))"
   ]
  },
  {
   "cell_type": "code",
   "execution_count": 11,
   "id": "d6f7cd03",
   "metadata": {},
   "outputs": [
    {
     "name": "stdout",
     "output_type": "stream",
     "text": [
      "{'a': 5, 'b': 10}\n",
      "15\n"
     ]
    }
   ],
   "source": [
    "def add_numbers(**nums):\n",
    "    print(nums)\n",
    "    res = 0\n",
    "    for i in nums:\n",
    "        res += nums[i]\n",
    "    return res\n",
    "\n",
    "res = add_numbers(a = 5, b = 10)\n",
    "print(res)"
   ]
  },
  {
   "cell_type": "code",
   "execution_count": 12,
   "id": "fc008bf8",
   "metadata": {},
   "outputs": [
    {
     "name": "stdout",
     "output_type": "stream",
     "text": [
      "process ear finished at 22-12-2023T23:17:53 with 100 records\n"
     ]
    }
   ],
   "source": [
    "def logging(**nums):\n",
    "    print(f\"process {nums['pname']} finished at {nums['tstamp']} with {nums['reccount']} records\")\n",
    "\n",
    "logging(pname = 'ear', tstamp = '22-12-2023T23:17:53', reccount = '100')\n",
    "\n",
    "#log 2212-2023T23:17:15 - message - time diff"
   ]
  },
  {
   "cell_type": "code",
   "execution_count": 13,
   "id": "2cc5ee6e",
   "metadata": {},
   "outputs": [
    {
     "name": "stdout",
     "output_type": "stream",
     "text": [
      "a b\n"
     ]
    }
   ],
   "source": [
    "d = {'a': 5, 'b': 10}\n",
    "print(*d)"
   ]
  },
  {
   "cell_type": "code",
   "execution_count": 14,
   "id": "4df9d185",
   "metadata": {},
   "outputs": [
    {
     "name": "stdout",
     "output_type": "stream",
     "text": [
      "120\n"
     ]
    }
   ],
   "source": [
    "num = 5\n",
    "fact = 1\n",
    "for i in range(1, num + 1):\n",
    "    fact *= i\n",
    "print(fact)"
   ]
  },
  {
   "cell_type": "code",
   "execution_count": 15,
   "id": "25f0e8b5",
   "metadata": {},
   "outputs": [
    {
     "name": "stdout",
     "output_type": "stream",
     "text": [
      "120\n"
     ]
    }
   ],
   "source": [
    "def factorial(num):\n",
    "    if num == 1:\n",
    "        return 1\n",
    "    return num * factorial(num-1)\n",
    "\n",
    "res = factorial(5)\n",
    "print(res)\n",
    "\n",
    "\n",
    "# factorial(5)\n",
    "# 5!=0\n",
    "# return 5 * factorial(4)\n",
    "\n",
    "# factorial(4)\n",
    "# 4!=0\n",
    "# return 4 * factorial(3)\n",
    "\n",
    "# factorial(3)\n",
    "# 3!=0\n",
    "# return 3 * factorial(2)\n",
    "\n",
    "# factorial(2)\n",
    "# 2!=0\n",
    "# return 2 * factorial(1)\n",
    "\n",
    "# factorial(1)\n",
    "# 1!=0\n",
    "# return 1 \n",
    "\n",
    "# return 2 * 1\n",
    "\n",
    "# return 3 * 2 * 1\n",
    "\n",
    "# return 4 * 3 * 2 * 1\n",
    "\n",
    "# return 5 * 4 * 3 * 2 * 1"
   ]
  },
  {
   "cell_type": "code",
   "execution_count": 16,
   "id": "141df535",
   "metadata": {},
   "outputs": [
    {
     "name": "stdout",
     "output_type": "stream",
     "text": [
      "34\n"
     ]
    }
   ],
   "source": [
    "#0, 1, 1, 2, 3, 5, 8, 13, 21, 34\n",
    "\n",
    "\n",
    "# {1: 0, 2: 1, 3: val}\n",
    "def fib(num):\n",
    "    if num == 1:\n",
    "        return 0\n",
    "    if num == 2:\n",
    "        return 1\n",
    "    return fib(num - 1) + fib (num - 2)\n",
    "print(fib(10))\n",
    "\n",
    "\n",
    "# fib(7)\n",
    "# return fib(6) + fib(5)\n",
    "\n",
    "# fib(6)\n",
    "# return fib(5) + fib(4)\n",
    "\n",
    "# fib(5)\n",
    "# return fib(4) + fib(3)\n",
    "\n",
    "# fib(4):\n",
    "# return fib(3) + fib(2)\n",
    "\n",
    "# fib(3):\n",
    "# return 1 + 0\n",
    "\n",
    "# return 1 + 0 + fib(2)\n",
    "\n",
    "# return 1 + 0 + 1\n",
    "\n",
    "# return 1 + 0 + 1 + fib(3)\n",
    "\n",
    "# fib(3)\n",
    "# return 1 + 0\n",
    "\n",
    "# return 1 + 0 + 1 + 1 + 0\n",
    "\n",
    "# retrun  1 + 0 + 1 + 1 + 0 + fib(4)\n",
    "\n",
    "# fib(4):\n",
    "# return fib(3) + fib(2)\n",
    "\n",
    "# fib(3):\n",
    "# return 1 + 0\n",
    "\n",
    "# return 1 + 0 + fib(2)\n",
    "\n",
    "# return 1 + 0 + 1\n",
    "\n",
    "# return 1 + 0 + 1 + fib(3)"
   ]
  },
  {
   "cell_type": "code",
   "execution_count": 17,
   "id": "7cde76be",
   "metadata": {},
   "outputs": [
    {
     "name": "stdout",
     "output_type": "stream",
     "text": [
      "7\n"
     ]
    }
   ],
   "source": [
    "class Solution:\n",
    "    @staticmethod\n",
    "    def add_numbers(a, b):\n",
    "        print(a + b)\n",
    "        \n",
    "#s = Solution()\n",
    "Solution.add_numbers(3, 4)"
   ]
  }
 ],
 "metadata": {
  "kernelspec": {
   "display_name": "Python 3 (ipykernel)",
   "language": "python",
   "name": "python3"
  },
  "language_info": {
   "codemirror_mode": {
    "name": "ipython",
    "version": 3
   },
   "file_extension": ".py",
   "mimetype": "text/x-python",
   "name": "python",
   "nbconvert_exporter": "python",
   "pygments_lexer": "ipython3",
   "version": "3.11.4"
  }
 },
 "nbformat": 4,
 "nbformat_minor": 5
}
